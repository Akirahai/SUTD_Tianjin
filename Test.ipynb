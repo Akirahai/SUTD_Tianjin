{
 "cells": [
  {
   "cell_type": "code",
   "execution_count": 22,
   "metadata": {},
   "outputs": [],
   "source": [
    "from libs import *\n",
    "from TSPex import *\n",
    "from TSPnna import *"
   ]
  },
  {
   "cell_type": "code",
   "execution_count": 23,
   "metadata": {},
   "outputs": [],
   "source": [
    "df_vtx = pd.read_excel('data/vertices.xlsx')\n",
    "vtx_list = []\n",
    "# Create the list from the excel filde and stor it as list of objects\n",
    "for i in range(len(df_vtx)):\n",
    "    vtx = Vtx(df_vtx['Ver_Name'][i], df_vtx['x'][i], df_vtx['y'][i])\n",
    "    vtx_list.append(vtx)"
   ]
  },
  {
   "cell_type": "code",
   "execution_count": 24,
   "metadata": {},
   "outputs": [
    {
     "data": {
      "text/plain": [
       "[0(0,0), 1(1,4), 2(2,2), 3(3,3), 4(4,1), 5(5,1)]"
      ]
     },
     "execution_count": 24,
     "metadata": {},
     "output_type": "execute_result"
    }
   ],
   "source": [
    "vtx_list "
   ]
  },
  {
   "cell_type": "code",
   "execution_count": 25,
   "metadata": {},
   "outputs": [],
   "source": [
    "obstacles_data = [  \n",
    "    (1, 0, 2, 0, \"T\"),  \n",
    "    (3, 0, 4, 0, \"T\"),  \n",
    "    (2, 1, 3, 1, \"T\"),  \n",
    "    (1, 1, 1, 2, \"N\"),  \n",
    "    (1, 2, 2, 2, \"N\"),  \n",
    "    (4, 4, 5, 4, \"B\"),  \n",
    "    (5, 4, 5, 5, \"B\")  \n",
    "]  "
   ]
  },
  {
   "cell_type": "markdown",
   "metadata": {},
   "source": [
    "# Test Set Up code - Distance"
   ]
  },
  {
   "cell_type": "code",
   "execution_count": 26,
   "metadata": {},
   "outputs": [
    {
     "name": "stdout",
     "output_type": "stream",
     "text": [
      "The suitable path is [(0, 0), (0, 1), (0, 2), (0, 3), (0, 4), (1, 4)]\n",
      "The suitable distance is 12\n",
      "The guidance: ['Move Straight', 'Move Straight', 'Move Straight', 'Move Straight', 'Right Turn']\n",
      "The last direction: (1, 0)\n"
     ]
    }
   ],
   "source": [
    "board = Board(obstacles_data) \n",
    "start = vtx_list[0]\n",
    "end = vtx_list[1]\n",
    "\n",
    "number_of_paths = vtx_list[0].optimized_paths(vtx_list[1])\n",
    "\n",
    "initial_dir = (0,1)\n",
    "min_path, min_dis, min_turn_guidance, min_last_direction = board.find_optimized_paths(initial_dir, start, end, number_of_paths)\n",
    "\n",
    "print(f'The suitable path is {min_path}')\n",
    "print(f'The suitable distance is {min_dis}')\n",
    "print(f'The guidance: {min_turn_guidance}')\n",
    "print(f'The last direction: {min_last_direction}')"
   ]
  },
  {
   "cell_type": "markdown",
   "metadata": {},
   "source": [
    "# Test Exhaustive search Algo"
   ]
  },
  {
   "cell_type": "code",
   "execution_count": 27,
   "metadata": {},
   "outputs": [],
   "source": [
    "board = Board(obstacles_data)  \n",
    "initial_dir = (1,0)  \n",
    "min_result = min_possible_path(board, vtx_list, initial_dir)"
   ]
  },
  {
   "cell_type": "code",
   "execution_count": 28,
   "metadata": {},
   "outputs": [
    {
     "name": "stdout",
     "output_type": "stream",
     "text": [
      "Path : ['V(0,0)', 'V(1,4)', 'V(3,3)', 'V(4,1)', 'V(5,1)', 'V(2,2)', 'V(0,0)']\n",
      "  Total Distance: 54\n",
      "  Guidance:\n",
      "    - From V(0,0) to V(1,4): ['Left Turn', 'Move Straight', 'Move Straight', 'Move Straight', 'Right Turn']\n",
      "    - From V(1,4) to V(3,3): ['Move Straight', 'Move Straight', 'Right Turn']\n",
      "    - From V(3,3) to V(4,1): ['Move Straight', 'Move Straight', 'Left Turn']\n",
      "    - From V(4,1) to V(5,1): ['Move Straight']\n",
      "    - From V(5,1) to V(2,2): ['Left Turn', 'Left Turn', 'Move Straight', 'Move Straight']\n",
      "    - From V(2,2) to V(0,0): ['Move Straight', 'Move Straight', 'Left Turn', 'Move Straight']\n",
      "  Guided_Path:\n",
      "    - From V(0,0) to V(1,4): [(0, 0), (0, 1), (0, 2), (0, 3), (0, 4), (1, 4)]\n",
      "    - From V(1,4) to V(3,3): [(1, 4), (2, 4), (3, 4), (3, 3)]\n",
      "    - From V(3,3) to V(4,1): [(3, 3), (3, 2), (3, 1), (4, 1)]\n",
      "    - From V(4,1) to V(5,1): [(4, 1), (5, 1)]\n",
      "    - From V(5,1) to V(2,2): [(5, 1), (5, 2), (4, 2), (3, 2), (2, 2)]\n",
      "    - From V(2,2) to V(0,0): [(2, 2), (1, 2), (0, 2), (0, 1), (0, 0)]\n",
      "\n"
     ]
    }
   ],
   "source": [
    "print(f\"Path : {min_result['Path']}\")  \n",
    "print(f\"  Total Distance: {min_result['Total_Distance']}\")  \n",
    "print(f\"  Guidance:\")  \n",
    "for guidance in min_result['Guidance']:  \n",
    "    print(f\"    - {guidance}\")  \n",
    "print(f\"  Guided_Path:\")\n",
    "for guidance in min_result['Guided_Path']:\n",
    "    print(f\"    - {guidance}\")\n",
    "print()"
   ]
  },
  {
   "cell_type": "markdown",
   "metadata": {},
   "source": [
    "# Test Nearest Neighbourhood Algo"
   ]
  },
  {
   "cell_type": "code",
   "execution_count": 29,
   "metadata": {},
   "outputs": [
    {
     "name": "stdout",
     "output_type": "stream",
     "text": [
      " Found the nearest vertex next to 0(0,0) is 1(1,4)\n",
      " Found the nearest vertex next to 1(1,4) is 2(2,2)\n",
      " Found the nearest vertex next to 2(2,2) is 3(3,3)\n",
      " Found the nearest vertex next to 3(3,3) is 4(4,1)\n",
      " Found the nearest vertex next to 4(4,1) is 5(5,1)\n"
     ]
    }
   ],
   "source": [
    "board = Board(obstacles_data)  \n",
    "initial_dir = (1, 0)  \n",
    "min_result = nearest_neighbor_path(board, vtx_list, initial_dir)  "
   ]
  },
  {
   "cell_type": "code",
   "execution_count": 30,
   "metadata": {},
   "outputs": [
    {
     "name": "stdout",
     "output_type": "stream",
     "text": [
      "The optimal guided_path given by the nearest neighbor algorithm is\n",
      "Path : ['V(0,0)', 'V(1,4)', 'V(2,2)', 'V(3,3)', 'V(4,1)', 'V(5,1)', 'V(0,0)']\n",
      "  Total Distance: 60\n",
      "  Guidance:\n",
      "    - From V(0,0) to V(1,4): ['Left Turn', 'Move Straight', 'Move Straight', 'Move Straight', 'Right Turn']\n",
      "    - From V(1,4) to V(2,2): ['Move Straight', 'Right Turn', 'Move Straight']\n",
      "    - From V(2,2) to V(3,3): ['Left Turn', 'Left Turn']\n",
      "    - From V(3,3) to V(4,1): ['Right Turn', 'Right Turn', 'Move Straight']\n",
      "    - From V(4,1) to V(5,1): ['Left Turn']\n",
      "    - From V(5,1) to V(0,0): ['Right Turn', 'Right Turn', 'Move Straight', 'Move Straight', 'Move Straight', 'Move Straight']\n",
      "  Guided_Path:\n",
      "    - From V(0,0) to V(1,4): [(0, 0), (0, 1), (0, 2), (0, 3), (0, 4), (1, 4)]\n",
      "    - From V(1,4) to V(2,2): [(1, 4), (2, 4), (2, 3), (2, 2)]\n",
      "    - From V(2,2) to V(3,3): [(2, 2), (3, 2), (3, 3)]\n",
      "    - From V(3,3) to V(4,1): [(3, 3), (4, 3), (4, 2), (4, 1)]\n",
      "    - From V(4,1) to V(5,1): [(4, 1), (5, 1)]\n",
      "    - From V(5,1) to V(0,0): [(5, 1), (5, 0), (4, 0), (3, 0), (2, 0), (1, 0), (0, 0)]\n",
      "\n"
     ]
    }
   ],
   "source": [
    "print('The optimal guided_path given by the nearest neighbor algorithm is')  \n",
    "print(f\"Path : {min_result['Path']}\")  \n",
    "print(f\"  Total Distance: {min_result['Total_Distance']}\")  \n",
    "print(f\"  Guidance:\")  \n",
    "for guidance in min_result['Guidance']:  \n",
    "    print(f\"    - {guidance}\")  \n",
    "print(f\"  Guided_Path:\")  \n",
    "for guidance in min_result['Guided_Path']:  \n",
    "    print(f\"    - {guidance}\")  \n",
    "print()"
   ]
  }
 ],
 "metadata": {
  "kernelspec": {
   "display_name": "ctd",
   "language": "python",
   "name": "python3"
  },
  "language_info": {
   "codemirror_mode": {
    "name": "ipython",
    "version": 3
   },
   "file_extension": ".py",
   "mimetype": "text/x-python",
   "name": "python",
   "nbconvert_exporter": "python",
   "pygments_lexer": "ipython3",
   "version": "3.9.18"
  }
 },
 "nbformat": 4,
 "nbformat_minor": 2
}
