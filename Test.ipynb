{
 "cells": [
  {
   "cell_type": "code",
   "execution_count": null,
   "metadata": {},
   "outputs": [],
   "source": [
    "from libs import *\n",
    "from TSPex import *\n",
    "from TSPnna import *"
   ]
  },
  {
   "cell_type": "code",
   "execution_count": null,
   "metadata": {},
   "outputs": [],
   "source": [
    "df_vtx = pd.read_excel('data/vertices.xlsx')\n",
    "vtx_list = []\n",
    "# Create the list from the excel filde and stor it as list of objects\n",
    "for i in range(len(df_vtx)):\n",
    "    vtx = Vtx(df_vtx['Ver_Name'][i], df_vtx['x'][i], df_vtx['y'][i])\n",
    "    vtx_list.append(vtx)"
   ]
  },
  {
   "cell_type": "code",
   "execution_count": null,
   "metadata": {},
   "outputs": [],
   "source": [
    "vtx_list "
   ]
  },
  {
   "cell_type": "code",
   "execution_count": null,
   "metadata": {},
   "outputs": [],
   "source": [
    "obstacles_data = [  \n",
    "    (1, 0, 2, 0, \"T\"),  \n",
    "    (3, 0, 4, 0, \"T\"),  \n",
    "    (2, 1, 3, 1, \"T\"),  \n",
    "    (1, 1, 1, 2, \"N\"),  \n",
    "    (1, 2, 2, 2, \"N\"),  \n",
    "    (4, 4, 5, 4, \"B\"),  \n",
    "    (5, 4, 5, 5, \"B\")  \n",
    "]  "
   ]
  },
  {
   "cell_type": "markdown",
   "metadata": {},
   "source": [
    "# Test Set Up code - Distance"
   ]
  },
  {
   "cell_type": "code",
   "execution_count": null,
   "metadata": {},
   "outputs": [],
   "source": [
    "board = Board(obstacles_data) \n",
    "start = vtx_list[0]\n",
    "end = vtx_list[1]\n",
    "\n",
    "number_of_paths = vtx_list[0].optimized_paths(vtx_list[1])\n",
    "\n",
    "initial_dir = (0,1)\n",
    "min_path, min_dis, min_turn_guidance, min_last_direction = board.find_optimized_paths(initial_dir, start, end, number_of_paths)\n",
    "\n",
    "print(f'The suitable path is {min_path}')\n",
    "print(f'The suitable distance is {min_dis}')\n",
    "print(f'The guidance: {min_turn_guidance}')\n",
    "print(f'The last direction: {min_last_direction}')"
   ]
  },
  {
   "cell_type": "markdown",
   "metadata": {},
   "source": [
    "# Test Exhaustive search Algo"
   ]
  },
  {
   "cell_type": "code",
   "execution_count": null,
   "metadata": {},
   "outputs": [],
   "source": [
    "board = Board(obstacles_data)  \n",
    "initial_dir = (1,0)  \n",
    "min_result = min_possible_path(board, vtx_list, initial_dir)"
   ]
  },
  {
   "cell_type": "code",
   "execution_count": null,
   "metadata": {},
   "outputs": [],
   "source": [
    "print(f\"Path : {min_result['Path']}\")  \n",
    "print(f\"  Total Distance: {min_result['Total_Distance']}\")  \n",
    "print(f\"  Guidance:\")  \n",
    "for guidance in min_result['Guidance']:  \n",
    "    print(f\"    - {guidance}\")  \n",
    "print(f\"  Guided_Path:\")\n",
    "for guidance in min_result['Guided_Path']:\n",
    "    print(f\"    - {guidance}\")\n",
    "print()"
   ]
  },
  {
   "cell_type": "markdown",
   "metadata": {},
   "source": [
    "# Test Nearest Neighbourhood Algo"
   ]
  },
  {
   "cell_type": "code",
   "execution_count": null,
   "metadata": {},
   "outputs": [],
   "source": [
    "board = Board(obstacles_data)  \n",
    "initial_dir = (1, 0)  \n",
    "min_result = nearest_neighbor_path(board, vtx_list, initial_dir)  "
   ]
  },
  {
   "cell_type": "code",
   "execution_count": null,
   "metadata": {},
   "outputs": [],
   "source": [
    "print('The optimal guided_path given by the nearest neighbor algorithm is')  \n",
    "print(f\"Path : {min_result['Path']}\")  \n",
    "print(f\"  Total Distance: {min_result['Total_Distance']}\")  \n",
    "print(f\"  Guidance:\")  \n",
    "for guidance in min_result['Guidance']:  \n",
    "    print(f\"    - {guidance}\")  \n",
    "print(f\"  Guided_Path:\")  \n",
    "for guidance in min_result['Guided_Path']:  \n",
    "    print(f\"    - {guidance}\")  \n",
    "print()"
   ]
  }
 ],
 "metadata": {
  "kernelspec": {
   "display_name": "ctd",
   "language": "python",
   "name": "python3"
  },
  "language_info": {
   "codemirror_mode": {
    "name": "ipython",
    "version": 3
   },
   "file_extension": ".py",
   "mimetype": "text/x-python",
   "name": "python",
   "nbconvert_exporter": "python",
   "pygments_lexer": "ipython3",
   "version": "3.9.18"
  }
 },
 "nbformat": 4,
 "nbformat_minor": 2
}
