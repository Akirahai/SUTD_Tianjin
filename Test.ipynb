{
 "cells": [
  {
   "cell_type": "code",
   "execution_count": 16,
   "metadata": {},
   "outputs": [],
   "source": [
    "from libs import *\n",
    "from TSPex import *\n",
    "from TSPnna import *"
   ]
  },
  {
   "cell_type": "code",
   "execution_count": 17,
   "metadata": {},
   "outputs": [],
   "source": [
    "df_vtx = pd.read_excel('data/vertices.xlsx')\n",
    "vtx_list = []\n",
    "# Create the list from the excel filde and stor it as list of objects\n",
    "for i in range(len(df_vtx)):\n",
    "    vtx = Vtx(df_vtx['Ver_Name'][i], df_vtx['x'][i], df_vtx['y'][i])\n",
    "    vtx_list.append(vtx)"
   ]
  },
  {
   "cell_type": "code",
   "execution_count": 18,
   "metadata": {},
   "outputs": [
    {
     "data": {
      "text/plain": [
       "[0(0,0),\n",
       " 1(1,4),\n",
       " 2(2,2),\n",
       " 3(3,3),\n",
       " 4(4,1),\n",
       " 5(5,1),\n",
       " 6(1,5),\n",
       " 7(3,2),\n",
       " 8(2,3),\n",
       " 9(3,5),\n",
       " 10(5,3),\n",
       " 11(2,5),\n",
       " 12(5,2),\n",
       " 13(4,4),\n",
       " 14(1,3),\n",
       " 15(3,1)]"
      ]
     },
     "execution_count": 18,
     "metadata": {},
     "output_type": "execute_result"
    }
   ],
   "source": [
    "vtx_list "
   ]
  },
  {
   "cell_type": "code",
   "execution_count": 19,
   "metadata": {},
   "outputs": [],
   "source": [
    "obstacles_data = [  \n",
    "    (1, 0, 2, 0, \"T\"),  \n",
    "    (3, 0, 4, 0, \"T\"),  \n",
    "    (2, 1, 3, 1, \"T\"),  \n",
    "    (1, 1, 1, 2, \"N\"),  \n",
    "    (1, 2, 2, 2, \"N\"),  \n",
    "    (4, 4, 5, 4, \"B\"),  \n",
    "    (5, 4, 5, 5, \"B\")  \n",
    "]  "
   ]
  },
  {
   "cell_type": "markdown",
   "metadata": {},
   "source": [
    "# Test Set Up code - Distance"
   ]
  },
  {
   "cell_type": "code",
   "execution_count": 20,
   "metadata": {},
   "outputs": [
    {
     "name": "stdout",
     "output_type": "stream",
     "text": [
      "The suitable path is [(0, 0), (0, 1), (0, 2), (0, 3), (0, 4), (1, 4)]\n",
      "The suitable distance is 12\n",
      "The guidance: ['Move Straight', 'Move Straight', 'Move Straight', 'Move Straight', 'Right Turn']\n",
      "The last direction: (1, 0)\n"
     ]
    }
   ],
   "source": [
    "board = Board(obstacles_data) \n",
    "start = vtx_list[0]\n",
    "end = vtx_list[1]\n",
    "\n",
    "number_of_paths = vtx_list[0].optimized_paths(vtx_list[1])\n",
    "\n",
    "initial_dir = (0,1)\n",
    "min_path, min_dis, min_turn_guidance, min_last_direction = board.find_optimized_paths(initial_dir, start, end, number_of_paths)\n",
    "\n",
    "print(f'The suitable path is {min_path}')\n",
    "print(f'The suitable distance is {min_dis}')\n",
    "print(f'The guidance: {min_turn_guidance}')\n",
    "print(f'The last direction: {min_last_direction}')"
   ]
  },
  {
   "cell_type": "markdown",
   "metadata": {},
   "source": [
    "# Test Exhaustive search Algo"
   ]
  },
  {
   "cell_type": "code",
   "execution_count": 21,
   "metadata": {},
   "outputs": [
    {
     "ename": "KeyboardInterrupt",
     "evalue": "",
     "output_type": "error",
     "traceback": [
      "\u001b[1;31m---------------------------------------------------------------------------\u001b[0m",
      "\u001b[1;31mKeyboardInterrupt\u001b[0m                         Traceback (most recent call last)",
      "Cell \u001b[1;32mIn[21], line 3\u001b[0m\n\u001b[0;32m      1\u001b[0m board \u001b[38;5;241m=\u001b[39m Board(obstacles_data)  \n\u001b[0;32m      2\u001b[0m initial_dir \u001b[38;5;241m=\u001b[39m (\u001b[38;5;241m1\u001b[39m,\u001b[38;5;241m0\u001b[39m)  \n\u001b[1;32m----> 3\u001b[0m min_result \u001b[38;5;241m=\u001b[39m \u001b[43mmin_possible_path\u001b[49m\u001b[43m(\u001b[49m\u001b[43mboard\u001b[49m\u001b[43m,\u001b[49m\u001b[43m \u001b[49m\u001b[43mvtx_list\u001b[49m\u001b[43m,\u001b[49m\u001b[43m \u001b[49m\u001b[43minitial_dir\u001b[49m\u001b[43m)\u001b[49m\n",
      "File \u001b[1;32mc:\\Users\\lehai\\Downloads\\Tianjin - SUTD - proj\\TSP_Project_SUTD_Tianjin\\TSPex.py:77\u001b[0m, in \u001b[0;36mmin_possible_path\u001b[1;34m(board, vtx_list, initial_dir)\u001b[0m\n\u001b[0;32m     75\u001b[0m \u001b[38;5;28;01mdef\u001b[39;00m \u001b[38;5;21mmin_possible_path\u001b[39m(board, vtx_list, initial_dir):\n\u001b[1;32m---> 77\u001b[0m     all_paths_results \u001b[38;5;241m=\u001b[39m \u001b[43mall_possible_paths\u001b[49m\u001b[43m(\u001b[49m\u001b[43mboard\u001b[49m\u001b[43m,\u001b[49m\u001b[43m \u001b[49m\u001b[43mvtx_list\u001b[49m\u001b[43m,\u001b[49m\u001b[43m \u001b[49m\u001b[43minitial_dir\u001b[49m\u001b[43m)\u001b[49m\n\u001b[0;32m     79\u001b[0m     min_journey \u001b[38;5;241m=\u001b[39m \u001b[38;5;28mfloat\u001b[39m(\u001b[38;5;124m'\u001b[39m\u001b[38;5;124minf\u001b[39m\u001b[38;5;124m'\u001b[39m)\n\u001b[0;32m     81\u001b[0m     found_idx \u001b[38;5;241m=\u001b[39m \u001b[38;5;241m0\u001b[39m\n",
      "File \u001b[1;32mc:\\Users\\lehai\\Downloads\\Tianjin - SUTD - proj\\TSP_Project_SUTD_Tianjin\\TSPex.py:68\u001b[0m, in \u001b[0;36mall_possible_paths\u001b[1;34m(board, vtx_list, initial_dir)\u001b[0m\n\u001b[0;32m     65\u001b[0m     total_distance \u001b[38;5;241m=\u001b[39m \u001b[38;5;241m0\u001b[39m  \n\u001b[0;32m     66\u001b[0m     full_guidance \u001b[38;5;241m=\u001b[39m []  \n\u001b[1;32m---> 68\u001b[0m     result_entry \u001b[38;5;241m=\u001b[39m \u001b[43manalysis_full_optimized_paths\u001b[49m\u001b[43m(\u001b[49m\u001b[43mboard\u001b[49m\u001b[43m,\u001b[49m\u001b[43mfull_path\u001b[49m\u001b[43m,\u001b[49m\u001b[43m \u001b[49m\u001b[43minitial_dir\u001b[49m\u001b[43m)\u001b[49m\n\u001b[0;32m     70\u001b[0m     results\u001b[38;5;241m.\u001b[39mappend(result_entry)\n\u001b[0;32m     72\u001b[0m \u001b[38;5;28;01mreturn\u001b[39;00m results\n",
      "File \u001b[1;32mc:\\Users\\lehai\\Downloads\\Tianjin - SUTD - proj\\TSP_Project_SUTD_Tianjin\\TSPex.py:29\u001b[0m, in \u001b[0;36manalysis_full_optimized_paths\u001b[1;34m(board, full_path, dir)\u001b[0m\n\u001b[0;32m     26\u001b[0m start_vtx \u001b[38;5;241m=\u001b[39m full_path[i]  \n\u001b[0;32m     27\u001b[0m end_vtx \u001b[38;5;241m=\u001b[39m full_path[i \u001b[38;5;241m+\u001b[39m \u001b[38;5;241m1\u001b[39m]\n\u001b[1;32m---> 29\u001b[0m guided_path, distance, turn_guidance, last_direction \u001b[38;5;241m=\u001b[39m \u001b[43mboard\u001b[49m\u001b[38;5;241;43m.\u001b[39;49m\u001b[43mfind_optimized_paths\u001b[49m\u001b[43m(\u001b[49m\u001b[43mchecked_dir\u001b[49m\u001b[43m,\u001b[49m\u001b[43m \u001b[49m\u001b[43mstart_vtx\u001b[49m\u001b[43m,\u001b[49m\u001b[43m \u001b[49m\u001b[43mend_vtx\u001b[49m\u001b[43m)\u001b[49m\n\u001b[0;32m     31\u001b[0m total_distance \u001b[38;5;241m+\u001b[39m\u001b[38;5;241m=\u001b[39m distance\n\u001b[0;32m     33\u001b[0m full_guidance\u001b[38;5;241m.\u001b[39mappend(\u001b[38;5;124mf\u001b[39m\u001b[38;5;124m\"\u001b[39m\u001b[38;5;124mFrom \u001b[39m\u001b[38;5;132;01m{\u001b[39;00mstart_vtx\u001b[38;5;241m.\u001b[39mgetName()\u001b[38;5;132;01m}\u001b[39;00m\u001b[38;5;124m to \u001b[39m\u001b[38;5;132;01m{\u001b[39;00mend_vtx\u001b[38;5;241m.\u001b[39mgetName()\u001b[38;5;132;01m}\u001b[39;00m\u001b[38;5;124m: \u001b[39m\u001b[38;5;132;01m{\u001b[39;00mturn_guidance\u001b[38;5;132;01m}\u001b[39;00m\u001b[38;5;124m\"\u001b[39m)\n",
      "File \u001b[1;32mc:\\Users\\lehai\\Downloads\\Tianjin - SUTD - proj\\TSP_Project_SUTD_Tianjin\\libs.py:270\u001b[0m, in \u001b[0;36mBoard.find_optimized_paths\u001b[1;34m(self, initial_direction, start_point, end_point, number_of_paths)\u001b[0m\n\u001b[0;32m    267\u001b[0m start_point \u001b[38;5;241m=\u001b[39m start_point\u001b[38;5;241m.\u001b[39mgetName()\n\u001b[0;32m    268\u001b[0m end_point \u001b[38;5;241m=\u001b[39m end_point\u001b[38;5;241m.\u001b[39mgetName()\n\u001b[1;32m--> 270\u001b[0m all_paths \u001b[38;5;241m=\u001b[39m \u001b[38;5;28;43mself\u001b[39;49m\u001b[38;5;241;43m.\u001b[39;49m\u001b[43mfind_paths\u001b[49m\u001b[43m(\u001b[49m\u001b[43mstart_point\u001b[49m\u001b[43m,\u001b[49m\u001b[43m \u001b[49m\u001b[43mend_point\u001b[49m\u001b[43m,\u001b[49m\u001b[43m \u001b[49m\u001b[43mnumber_of_paths\u001b[49m\u001b[43m)\u001b[49m\n\u001b[0;32m    272\u001b[0m min_dis \u001b[38;5;241m=\u001b[39m \u001b[38;5;28mfloat\u001b[39m(\u001b[38;5;124m'\u001b[39m\u001b[38;5;124minf\u001b[39m\u001b[38;5;124m'\u001b[39m)\n\u001b[0;32m    273\u001b[0m min_turn_guidance \u001b[38;5;241m=\u001b[39m []\n",
      "File \u001b[1;32mc:\\Users\\lehai\\Downloads\\Tianjin - SUTD - proj\\TSP_Project_SUTD_Tianjin\\libs.py:139\u001b[0m, in \u001b[0;36mBoard.find_paths\u001b[1;34m(self, start_point, end_point, number_of_paths)\u001b[0m\n\u001b[0;32m    136\u001b[0m end_vertex \u001b[38;5;241m=\u001b[39m \u001b[38;5;28mself\u001b[39m\u001b[38;5;241m.\u001b[39mvertices[end_point]  \n\u001b[0;32m    138\u001b[0m all_paths \u001b[38;5;241m=\u001b[39m []  \n\u001b[1;32m--> 139\u001b[0m \u001b[38;5;28;43mself\u001b[39;49m\u001b[38;5;241;43m.\u001b[39;49m\u001b[43mdfs\u001b[49m\u001b[43m(\u001b[49m\u001b[43mstart_vertex\u001b[49m\u001b[43m,\u001b[49m\u001b[43m \u001b[49m\u001b[43mend_vertex\u001b[49m\u001b[43m,\u001b[49m\u001b[43m \u001b[49m\u001b[43m[\u001b[49m\u001b[43m]\u001b[49m\u001b[43m,\u001b[49m\u001b[43m \u001b[49m\u001b[43mall_paths\u001b[49m\u001b[43m,\u001b[49m\u001b[43m \u001b[49m\u001b[43mnumber_of_paths\u001b[49m\u001b[43m,\u001b[49m\u001b[43m \u001b[49m\u001b[38;5;241;43m0\u001b[39;49m\u001b[43m,\u001b[49m\u001b[43m \u001b[49m\u001b[38;5;28;43mset\u001b[39;49m\u001b[43m(\u001b[49m\u001b[43m)\u001b[49m\u001b[43m)\u001b[49m  \n\u001b[0;32m    141\u001b[0m \u001b[38;5;28;01mreturn\u001b[39;00m all_paths\n",
      "File \u001b[1;32mc:\\Users\\lehai\\Downloads\\Tianjin - SUTD - proj\\TSP_Project_SUTD_Tianjin\\libs.py:178\u001b[0m, in \u001b[0;36mBoard.dfs\u001b[1;34m(self, current, end, path, all_paths, total_steps, current_steps, visited)\u001b[0m\n\u001b[0;32m    176\u001b[0m         \u001b[38;5;66;03m# Only visit if it hasn't been visited  \u001b[39;00m\n\u001b[0;32m    177\u001b[0m         \u001b[38;5;28;01mif\u001b[39;00m (nx, ny) \u001b[38;5;129;01mnot\u001b[39;00m \u001b[38;5;129;01min\u001b[39;00m visited:  \n\u001b[1;32m--> 178\u001b[0m             \u001b[38;5;28;43mself\u001b[39;49m\u001b[38;5;241;43m.\u001b[39;49m\u001b[43mdfs\u001b[49m\u001b[43m(\u001b[49m\u001b[43mnext_vertex\u001b[49m\u001b[43m,\u001b[49m\u001b[43m \u001b[49m\u001b[43mend\u001b[49m\u001b[43m,\u001b[49m\u001b[43m \u001b[49m\u001b[43mpath\u001b[49m\u001b[43m,\u001b[49m\u001b[43m \u001b[49m\u001b[43mall_paths\u001b[49m\u001b[43m,\u001b[49m\u001b[43m \u001b[49m\u001b[43mtotal_steps\u001b[49m\u001b[43m,\u001b[49m\u001b[43m \u001b[49m\u001b[43mcurrent_steps\u001b[49m\u001b[43m \u001b[49m\u001b[38;5;241;43m+\u001b[39;49m\u001b[43m \u001b[49m\u001b[38;5;241;43m1\u001b[39;49m\u001b[43m,\u001b[49m\u001b[43m \u001b[49m\u001b[43mvisited\u001b[49m\u001b[43m)\u001b[49m  \n\u001b[0;32m    180\u001b[0m \u001b[38;5;66;03m# Backtrack  \u001b[39;00m\n\u001b[0;32m    181\u001b[0m path\u001b[38;5;241m.\u001b[39mpop()  \n",
      "File \u001b[1;32mc:\\Users\\lehai\\Downloads\\Tianjin - SUTD - proj\\TSP_Project_SUTD_Tianjin\\libs.py:178\u001b[0m, in \u001b[0;36mBoard.dfs\u001b[1;34m(self, current, end, path, all_paths, total_steps, current_steps, visited)\u001b[0m\n\u001b[0;32m    176\u001b[0m         \u001b[38;5;66;03m# Only visit if it hasn't been visited  \u001b[39;00m\n\u001b[0;32m    177\u001b[0m         \u001b[38;5;28;01mif\u001b[39;00m (nx, ny) \u001b[38;5;129;01mnot\u001b[39;00m \u001b[38;5;129;01min\u001b[39;00m visited:  \n\u001b[1;32m--> 178\u001b[0m             \u001b[38;5;28;43mself\u001b[39;49m\u001b[38;5;241;43m.\u001b[39;49m\u001b[43mdfs\u001b[49m\u001b[43m(\u001b[49m\u001b[43mnext_vertex\u001b[49m\u001b[43m,\u001b[49m\u001b[43m \u001b[49m\u001b[43mend\u001b[49m\u001b[43m,\u001b[49m\u001b[43m \u001b[49m\u001b[43mpath\u001b[49m\u001b[43m,\u001b[49m\u001b[43m \u001b[49m\u001b[43mall_paths\u001b[49m\u001b[43m,\u001b[49m\u001b[43m \u001b[49m\u001b[43mtotal_steps\u001b[49m\u001b[43m,\u001b[49m\u001b[43m \u001b[49m\u001b[43mcurrent_steps\u001b[49m\u001b[43m \u001b[49m\u001b[38;5;241;43m+\u001b[39;49m\u001b[43m \u001b[49m\u001b[38;5;241;43m1\u001b[39;49m\u001b[43m,\u001b[49m\u001b[43m \u001b[49m\u001b[43mvisited\u001b[49m\u001b[43m)\u001b[49m  \n\u001b[0;32m    180\u001b[0m \u001b[38;5;66;03m# Backtrack  \u001b[39;00m\n\u001b[0;32m    181\u001b[0m path\u001b[38;5;241m.\u001b[39mpop()  \n",
      "File \u001b[1;32mc:\\Users\\lehai\\Downloads\\Tianjin - SUTD - proj\\TSP_Project_SUTD_Tianjin\\libs.py:174\u001b[0m, in \u001b[0;36mdfs\u001b[1;34m(self, current, end, path, all_paths, total_steps, current_steps, visited)\u001b[0m\n\u001b[0;32m    172\u001b[0m \u001b[38;5;66;03m# If we exceeded the steps, backtrack  \u001b[39;00m\n\u001b[0;32m    173\u001b[0m \u001b[38;5;28;01mif\u001b[39;00m current_steps \u001b[38;5;241m>\u001b[39m\u001b[38;5;241m=\u001b[39m total_steps:  \n\u001b[1;32m--> 174\u001b[0m     path\u001b[38;5;241m.\u001b[39mpop()  \n\u001b[0;32m    175\u001b[0m     visited\u001b[38;5;241m.\u001b[39mremove((current\u001b[38;5;241m.\u001b[39mx, current\u001b[38;5;241m.\u001b[39my))  \n\u001b[0;32m    176\u001b[0m     \u001b[38;5;28;01mreturn\u001b[39;00m  \n",
      "\u001b[1;31mKeyboardInterrupt\u001b[0m: "
     ]
    }
   ],
   "source": [
    "board = Board(obstacles_data)  \n",
    "initial_dir = (1,0)  \n",
    "min_result = min_possible_path(board, vtx_list, initial_dir)"
   ]
  },
  {
   "cell_type": "code",
   "execution_count": null,
   "metadata": {},
   "outputs": [],
   "source": [
    "print(f\"Path : {min_result['Path']}\")  \n",
    "print(f\"  Total Distance: {min_result['Total_Distance']}\")  \n",
    "print(f\"  Guidance:\")  \n",
    "for guidance in min_result['Guidance']:  \n",
    "    print(f\"    - {guidance}\")  \n",
    "print(f\"  Guided_Path:\")\n",
    "for guidance in min_result['Guided_Path']:\n",
    "    print(f\"    - {guidance}\")\n",
    "print()"
   ]
  },
  {
   "cell_type": "markdown",
   "metadata": {},
   "source": [
    "# Test Nearest Neighbourhood Algo"
   ]
  },
  {
   "cell_type": "code",
   "execution_count": null,
   "metadata": {},
   "outputs": [],
   "source": [
    "board = Board(obstacles_data)  \n",
    "initial_dir = (1, 0)  \n",
    "min_result = nearest_neighbor_path(board, vtx_list, initial_dir)  "
   ]
  },
  {
   "cell_type": "code",
   "execution_count": null,
   "metadata": {},
   "outputs": [],
   "source": [
    "print('The optimal guided_path given by the nearest neighbor algorithm is')  \n",
    "print(f\"Path : {min_result['Path']}\")  \n",
    "print(f\"  Total Distance: {min_result['Total_Distance']}\")  \n",
    "print(f\"  Guidance:\")  \n",
    "for guidance in min_result['Guidance']:  \n",
    "    print(f\"    - {guidance}\")  \n",
    "print(f\"  Guided_Path:\")  \n",
    "for guidance in min_result['Guided_Path']:  \n",
    "    print(f\"    - {guidance}\")  \n",
    "print()"
   ]
  }
 ],
 "metadata": {
  "kernelspec": {
   "display_name": "ctd",
   "language": "python",
   "name": "python3"
  },
  "language_info": {
   "codemirror_mode": {
    "name": "ipython",
    "version": 3
   },
   "file_extension": ".py",
   "mimetype": "text/x-python",
   "name": "python",
   "nbconvert_exporter": "python",
   "pygments_lexer": "ipython3",
   "version": "3.9.18"
  }
 },
 "nbformat": 4,
 "nbformat_minor": 2
}
